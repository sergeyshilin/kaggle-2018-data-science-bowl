{
 "cells": [
  {
   "cell_type": "code",
   "execution_count": 1,
   "metadata": {},
   "outputs": [],
   "source": [
    "import numpy as np\n",
    "import pandas as pd\n",
    "import matplotlib.pylab as plt\n",
    "%matplotlib inline"
   ]
  },
  {
   "cell_type": "code",
   "execution_count": 2,
   "metadata": {},
   "outputs": [],
   "source": [
    "import os\n",
    "import cv2\n",
    "from tqdm import tqdm"
   ]
  },
  {
   "cell_type": "markdown",
   "metadata": {},
   "source": [
    "#### Prepare csv file formats"
   ]
  },
  {
   "cell_type": "code",
   "execution_count": 3,
   "metadata": {},
   "outputs": [],
   "source": [
    "annotations = pd.DataFrame() # empty for now, will fill later\n",
    "classes = pd.DataFrame([['nuclei', 0]]) # do not include background\n",
    "annotations = pd.DataFrame([])\n",
    "annotations_with_masks = pd.DataFrame([])"
   ]
  },
  {
   "cell_type": "markdown",
   "metadata": {},
   "source": [
    "#### Fill out annotations"
   ]
  },
  {
   "cell_type": "code",
   "execution_count": 4,
   "metadata": {},
   "outputs": [],
   "source": [
    "data_base = '../data/stage1_train'\n",
    "server_data_path = '/storage/astrakhantsev/kaggle-2018-data-science-bowl/data/train/'"
   ]
  },
  {
   "cell_type": "code",
   "execution_count": 5,
   "metadata": {
    "scrolled": false
   },
   "outputs": [
    {
     "name": "stderr",
     "output_type": "stream",
     "text": [
      "100%|██████████| 664/664 [04:45<00:00,  2.32it/s]\n"
     ]
    }
   ],
   "source": [
    "counter_all = 0\n",
    "counter_bad = 0\n",
    "\n",
    "for img_id in tqdm(os.listdir(data_base)):\n",
    "    images_folder = '{}/{}/images/'.format(data_base, img_id)\n",
    "    masks_folder = '{}/{}/masks/'.format(data_base, img_id)\n",
    "    img_path = '{}/{}'.format(images_folder, os.listdir(images_folder)[0])\n",
    "    img_server_path = '{}{}/images/{}'.format(server_data_path, img_id, os.listdir(images_folder)[0])\n",
    "\n",
    "    for mask_id in os.listdir(masks_folder):\n",
    "        counter_all += 1\n",
    "        mask_path = '{}/{}'.format(masks_folder, mask_id)\n",
    "#         mask_img = cv2.imread(mask_path)\n",
    "        mask = cv2.imread(mask_path, 0)\n",
    "\n",
    "        _, contours, _ = cv2.findContours(\n",
    "            mask,\n",
    "            cv2.RETR_TREE,\n",
    "            cv2.CHAIN_APPROX_SIMPLE\n",
    "        )\n",
    "        \n",
    "        best_pair = (0, 0, 0, 0)\n",
    "        best_w = 0\n",
    "        best_h = 0\n",
    "\n",
    "        for cnt_num, c in enumerate(contours):\n",
    "            cnt = contours[cnt_num]\n",
    "            x, y, w, h = cv2.boundingRect(cnt)\n",
    "\n",
    "            if w > best_w and h > best_h:\n",
    "                best_w = w\n",
    "                best_h = h\n",
    "                best_pair = (x, y, x + w, y + h)\n",
    "\n",
    "#             cv2.rectangle(mask_img, (x, y), (x + w, y + h), (255, 0, 0), 2)\n",
    "\n",
    "        annotations = pd.concat([\n",
    "            annotations,\n",
    "            pd.DataFrame([[img_server_path, best_pair[0], best_pair[1], best_pair[2], best_pair[3], 'nuclei']])\n",
    "        ])\n",
    "    \n",
    "        annotations_with_masks = pd.concat([\n",
    "            annotations_with_masks,\n",
    "            pd.DataFrame([[img_id, mask_id, best_pair[0], best_pair[1], best_pair[2], best_pair[3], 'nuclei']])\n",
    "        ])\n",
    "\n",
    "#         if len(contours) > 1:\n",
    "#             plt.imshow(mask_img)\n",
    "#             plt.show()\n",
    "#             counter_bad += 1"
   ]
  },
  {
   "cell_type": "code",
   "execution_count": 6,
   "metadata": {},
   "outputs": [
    {
     "data": {
      "text/html": [
       "<div>\n",
       "<style>\n",
       "    .dataframe thead tr:only-child th {\n",
       "        text-align: right;\n",
       "    }\n",
       "\n",
       "    .dataframe thead th {\n",
       "        text-align: left;\n",
       "    }\n",
       "\n",
       "    .dataframe tbody tr th {\n",
       "        vertical-align: top;\n",
       "    }\n",
       "</style>\n",
       "<table border=\"1\" class=\"dataframe\">\n",
       "  <thead>\n",
       "    <tr style=\"text-align: right;\">\n",
       "      <th></th>\n",
       "      <th>0</th>\n",
       "      <th>1</th>\n",
       "    </tr>\n",
       "  </thead>\n",
       "  <tbody>\n",
       "    <tr>\n",
       "      <th>0</th>\n",
       "      <td>nuclei</td>\n",
       "      <td>0</td>\n",
       "    </tr>\n",
       "  </tbody>\n",
       "</table>\n",
       "</div>"
      ],
      "text/plain": [
       "        0  1\n",
       "0  nuclei  0"
      ]
     },
     "execution_count": 6,
     "metadata": {},
     "output_type": "execute_result"
    }
   ],
   "source": [
    "classes"
   ]
  },
  {
   "cell_type": "code",
   "execution_count": 7,
   "metadata": {},
   "outputs": [
    {
     "data": {
      "text/html": [
       "<div>\n",
       "<style>\n",
       "    .dataframe thead tr:only-child th {\n",
       "        text-align: right;\n",
       "    }\n",
       "\n",
       "    .dataframe thead th {\n",
       "        text-align: left;\n",
       "    }\n",
       "\n",
       "    .dataframe tbody tr th {\n",
       "        vertical-align: top;\n",
       "    }\n",
       "</style>\n",
       "<table border=\"1\" class=\"dataframe\">\n",
       "  <thead>\n",
       "    <tr style=\"text-align: right;\">\n",
       "      <th></th>\n",
       "      <th>0</th>\n",
       "      <th>1</th>\n",
       "      <th>2</th>\n",
       "      <th>3</th>\n",
       "      <th>4</th>\n",
       "      <th>5</th>\n",
       "    </tr>\n",
       "  </thead>\n",
       "  <tbody>\n",
       "    <tr>\n",
       "      <th>0</th>\n",
       "      <td>/storage/astrakhantsev/kaggle-2018-data-scienc...</td>\n",
       "      <td>46</td>\n",
       "      <td>180</td>\n",
       "      <td>64</td>\n",
       "      <td>200</td>\n",
       "      <td>nuclei</td>\n",
       "    </tr>\n",
       "    <tr>\n",
       "      <th>0</th>\n",
       "      <td>/storage/astrakhantsev/kaggle-2018-data-scienc...</td>\n",
       "      <td>26</td>\n",
       "      <td>247</td>\n",
       "      <td>42</td>\n",
       "      <td>256</td>\n",
       "      <td>nuclei</td>\n",
       "    </tr>\n",
       "    <tr>\n",
       "      <th>0</th>\n",
       "      <td>/storage/astrakhantsev/kaggle-2018-data-scienc...</td>\n",
       "      <td>141</td>\n",
       "      <td>164</td>\n",
       "      <td>164</td>\n",
       "      <td>184</td>\n",
       "      <td>nuclei</td>\n",
       "    </tr>\n",
       "    <tr>\n",
       "      <th>0</th>\n",
       "      <td>/storage/astrakhantsev/kaggle-2018-data-scienc...</td>\n",
       "      <td>77</td>\n",
       "      <td>204</td>\n",
       "      <td>93</td>\n",
       "      <td>217</td>\n",
       "      <td>nuclei</td>\n",
       "    </tr>\n",
       "    <tr>\n",
       "      <th>0</th>\n",
       "      <td>/storage/astrakhantsev/kaggle-2018-data-scienc...</td>\n",
       "      <td>72</td>\n",
       "      <td>234</td>\n",
       "      <td>92</td>\n",
       "      <td>248</td>\n",
       "      <td>nuclei</td>\n",
       "    </tr>\n",
       "  </tbody>\n",
       "</table>\n",
       "</div>"
      ],
      "text/plain": [
       "                                                   0    1    2    3    4  \\\n",
       "0  /storage/astrakhantsev/kaggle-2018-data-scienc...   46  180   64  200   \n",
       "0  /storage/astrakhantsev/kaggle-2018-data-scienc...   26  247   42  256   \n",
       "0  /storage/astrakhantsev/kaggle-2018-data-scienc...  141  164  164  184   \n",
       "0  /storage/astrakhantsev/kaggle-2018-data-scienc...   77  204   93  217   \n",
       "0  /storage/astrakhantsev/kaggle-2018-data-scienc...   72  234   92  248   \n",
       "\n",
       "        5  \n",
       "0  nuclei  \n",
       "0  nuclei  \n",
       "0  nuclei  \n",
       "0  nuclei  \n",
       "0  nuclei  "
      ]
     },
     "execution_count": 7,
     "metadata": {},
     "output_type": "execute_result"
    }
   ],
   "source": [
    "annotations.head()"
   ]
  },
  {
   "cell_type": "code",
   "execution_count": 8,
   "metadata": {},
   "outputs": [
    {
     "data": {
      "text/html": [
       "<div>\n",
       "<style>\n",
       "    .dataframe thead tr:only-child th {\n",
       "        text-align: right;\n",
       "    }\n",
       "\n",
       "    .dataframe thead th {\n",
       "        text-align: left;\n",
       "    }\n",
       "\n",
       "    .dataframe tbody tr th {\n",
       "        vertical-align: top;\n",
       "    }\n",
       "</style>\n",
       "<table border=\"1\" class=\"dataframe\">\n",
       "  <thead>\n",
       "    <tr style=\"text-align: right;\">\n",
       "      <th></th>\n",
       "      <th>0</th>\n",
       "      <th>1</th>\n",
       "      <th>2</th>\n",
       "      <th>3</th>\n",
       "      <th>4</th>\n",
       "      <th>5</th>\n",
       "      <th>6</th>\n",
       "    </tr>\n",
       "  </thead>\n",
       "  <tbody>\n",
       "    <tr>\n",
       "      <th>0</th>\n",
       "      <td>00071198d059ba7f5914a526d124d28e6d010c92466da2...</td>\n",
       "      <td>07a9bf1d7594af2763c86e93f05d22c4d5181353c6d3ab...</td>\n",
       "      <td>46</td>\n",
       "      <td>180</td>\n",
       "      <td>64</td>\n",
       "      <td>200</td>\n",
       "      <td>nuclei</td>\n",
       "    </tr>\n",
       "    <tr>\n",
       "      <th>0</th>\n",
       "      <td>00071198d059ba7f5914a526d124d28e6d010c92466da2...</td>\n",
       "      <td>0e548d0af63ab451616f082eb56bde13eb71f73dfda92a...</td>\n",
       "      <td>26</td>\n",
       "      <td>247</td>\n",
       "      <td>42</td>\n",
       "      <td>256</td>\n",
       "      <td>nuclei</td>\n",
       "    </tr>\n",
       "    <tr>\n",
       "      <th>0</th>\n",
       "      <td>00071198d059ba7f5914a526d124d28e6d010c92466da2...</td>\n",
       "      <td>0ea1f9e30124e4aef1407af239ff42fd6f5753c09b4c5c...</td>\n",
       "      <td>141</td>\n",
       "      <td>164</td>\n",
       "      <td>164</td>\n",
       "      <td>184</td>\n",
       "      <td>nuclei</td>\n",
       "    </tr>\n",
       "    <tr>\n",
       "      <th>0</th>\n",
       "      <td>00071198d059ba7f5914a526d124d28e6d010c92466da2...</td>\n",
       "      <td>0f5a3252d05ecdf453bdd5e6ad5322c454d8ec2d13ef0f...</td>\n",
       "      <td>77</td>\n",
       "      <td>204</td>\n",
       "      <td>93</td>\n",
       "      <td>217</td>\n",
       "      <td>nuclei</td>\n",
       "    </tr>\n",
       "    <tr>\n",
       "      <th>0</th>\n",
       "      <td>00071198d059ba7f5914a526d124d28e6d010c92466da2...</td>\n",
       "      <td>2c47735510ef91a11fde42b317829cee5fc04d05a797b9...</td>\n",
       "      <td>72</td>\n",
       "      <td>234</td>\n",
       "      <td>92</td>\n",
       "      <td>248</td>\n",
       "      <td>nuclei</td>\n",
       "    </tr>\n",
       "  </tbody>\n",
       "</table>\n",
       "</div>"
      ],
      "text/plain": [
       "                                                   0  \\\n",
       "0  00071198d059ba7f5914a526d124d28e6d010c92466da2...   \n",
       "0  00071198d059ba7f5914a526d124d28e6d010c92466da2...   \n",
       "0  00071198d059ba7f5914a526d124d28e6d010c92466da2...   \n",
       "0  00071198d059ba7f5914a526d124d28e6d010c92466da2...   \n",
       "0  00071198d059ba7f5914a526d124d28e6d010c92466da2...   \n",
       "\n",
       "                                                   1    2    3    4    5  \\\n",
       "0  07a9bf1d7594af2763c86e93f05d22c4d5181353c6d3ab...   46  180   64  200   \n",
       "0  0e548d0af63ab451616f082eb56bde13eb71f73dfda92a...   26  247   42  256   \n",
       "0  0ea1f9e30124e4aef1407af239ff42fd6f5753c09b4c5c...  141  164  164  184   \n",
       "0  0f5a3252d05ecdf453bdd5e6ad5322c454d8ec2d13ef0f...   77  204   93  217   \n",
       "0  2c47735510ef91a11fde42b317829cee5fc04d05a797b9...   72  234   92  248   \n",
       "\n",
       "        6  \n",
       "0  nuclei  \n",
       "0  nuclei  \n",
       "0  nuclei  \n",
       "0  nuclei  \n",
       "0  nuclei  "
      ]
     },
     "execution_count": 8,
     "metadata": {},
     "output_type": "execute_result"
    }
   ],
   "source": [
    "annotations_with_masks.head()"
   ]
  },
  {
   "cell_type": "code",
   "execution_count": 9,
   "metadata": {},
   "outputs": [],
   "source": [
    "classes.to_csv('../data/train_classes.csv', index=False)\n",
    "annotations.to_csv('../data/train_annotations.csv', index=False)\n",
    "annotations_with_masks.to_csv('../data/train_annotations_with_masks.csv', index=False)"
   ]
  },
  {
   "cell_type": "code",
   "execution_count": null,
   "metadata": {},
   "outputs": [],
   "source": []
  }
 ],
 "metadata": {
  "kernelspec": {
   "display_name": "Python 2",
   "language": "python",
   "name": "python2"
  },
  "language_info": {
   "codemirror_mode": {
    "name": "ipython",
    "version": 2
   },
   "file_extension": ".py",
   "mimetype": "text/x-python",
   "name": "python",
   "nbconvert_exporter": "python",
   "pygments_lexer": "ipython2",
   "version": "2.7.14"
  }
 },
 "nbformat": 4,
 "nbformat_minor": 2
}
