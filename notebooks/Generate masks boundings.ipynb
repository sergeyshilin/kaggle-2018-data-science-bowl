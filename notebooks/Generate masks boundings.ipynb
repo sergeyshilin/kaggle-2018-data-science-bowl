{
 "cells": [
  {
   "cell_type": "code",
   "execution_count": 1,
   "metadata": {},
   "outputs": [],
   "source": [
    "import numpy as np\n",
    "import pandas as pd\n",
    "import matplotlib.pylab as plt\n",
    "%matplotlib inline"
   ]
  },
  {
   "cell_type": "code",
   "execution_count": 2,
   "metadata": {},
   "outputs": [],
   "source": [
    "import os\n",
    "import cv2\n",
    "from tqdm import tqdm"
   ]
  },
  {
   "cell_type": "markdown",
   "metadata": {},
   "source": [
    "#### Prepare csv file formats"
   ]
  },
  {
   "cell_type": "code",
   "execution_count": 3,
   "metadata": {},
   "outputs": [],
   "source": [
    "annotations = pd.DataFrame() # empty for now, will fill later\n",
    "classes = pd.DataFrame([['nuclei', 0]]) # do not include background"
   ]
  },
  {
   "cell_type": "markdown",
   "metadata": {},
   "source": [
    "#### Fill out annotations"
   ]
  },
  {
   "cell_type": "code",
   "execution_count": 4,
   "metadata": {},
   "outputs": [],
   "source": [
    "data_base = '../data/stage1_train'"
   ]
  },
  {
   "cell_type": "code",
   "execution_count": null,
   "metadata": {
    "scrolled": false
   },
   "outputs": [
    {
     "name": "stderr",
     "output_type": "stream",
     "text": [
      "\n",
      "  0%|                                                                                          | 0/664 [00:00<?, ?it/s]\n",
      "  0%|▎                                                                                 | 3/664 [00:00<00:48, 13.63it/s]\n",
      "  1%|▍                                                                                 | 4/664 [00:00<01:05, 10.14it/s]\n",
      "  1%|▊                                                                                 | 7/664 [00:00<00:54, 12.02it/s]\n",
      "  2%|█▏                                                                               | 10/664 [00:00<00:46, 14.12it/s]\n",
      "  2%|█▍                                                                               | 12/664 [00:00<00:59, 10.96it/s]\n",
      "  2%|█▋                                                                               | 14/664 [00:01<00:58, 11.13it/s]\n",
      "  2%|█▉                                                                               | 16/664 [00:01<00:50, 12.82it/s]\n",
      "  3%|██▎                                                                              | 19/664 [00:01<00:42, 15.27it/s]\n",
      "  3%|██▋                                                                              | 22/664 [00:02<02:15,  4.74it/s]\n",
      "  4%|██▉                                                                              | 24/664 [00:04<03:56,  2.71it/s]\n",
      " 94%|███████████████████████████████████████████████████████████████████████████▌    | 627/664 [01:47<00:02, 12.83it/s]"
     ]
    }
   ],
   "source": [
    "counter_all = 0\n",
    "counter_bad = 0\n",
    "\n",
    "for img_id in tqdm(os.listdir(data_base)):\n",
    "    images_folder = '{}/{}/images/'.format(data_base, img_id)\n",
    "    masks_folder = '{}/{}/masks/'.format(data_base, img_id)\n",
    "    img_path = '{}/{}'.format(images_folder, os.listdir(images_folder)[0])\n",
    "\n",
    "    for mask_id in os.listdir(masks_folder):\n",
    "        counter_all += 1\n",
    "        mask_path = '{}/{}'.format(masks_folder, mask_id)\n",
    "        mask_img = cv2.imread(mask_path)\n",
    "        mask = cv2.imread(mask_path, 0)\n",
    "\n",
    "        _, contours, _ = cv2.findContours(\n",
    "            mask,\n",
    "            cv2.RETR_TREE,\n",
    "            cv2.CHAIN_APPROX_SIMPLE\n",
    "        )\n",
    "        \n",
    "        pairs = []\n",
    "        for cnt_num, c in enumerate(contours):\n",
    "            cnt = contours[cnt_num]\n",
    "            x, y, w, h = cv2.boundingRect(cnt)\n",
    "            pairs.append((x, y, x + w, y + h))\n",
    "            cv2.rectangle(mask_img, (x, y), (x + w, y + h), (255, 0, 0), 2)\n",
    "\n",
    "        if len(contours) > 1:\n",
    "#             plt.imshow(mask_img)\n",
    "#             plt.show()\n",
    "            counter_bad += 1"
   ]
  },
  {
   "cell_type": "code",
   "execution_count": 6,
   "metadata": {},
   "outputs": [
    {
     "data": {
      "text/html": [
       "<div>\n",
       "<style>\n",
       "    .dataframe thead tr:only-child th {\n",
       "        text-align: right;\n",
       "    }\n",
       "\n",
       "    .dataframe thead th {\n",
       "        text-align: left;\n",
       "    }\n",
       "\n",
       "    .dataframe tbody tr th {\n",
       "        vertical-align: top;\n",
       "    }\n",
       "</style>\n",
       "<table border=\"1\" class=\"dataframe\">\n",
       "  <thead>\n",
       "    <tr style=\"text-align: right;\">\n",
       "      <th></th>\n",
       "      <th>0</th>\n",
       "      <th>1</th>\n",
       "    </tr>\n",
       "  </thead>\n",
       "  <tbody>\n",
       "    <tr>\n",
       "      <th>0</th>\n",
       "      <td>nuclei</td>\n",
       "      <td>0</td>\n",
       "    </tr>\n",
       "  </tbody>\n",
       "</table>\n",
       "</div>"
      ],
      "text/plain": [
       "        0  1\n",
       "0  nuclei  0"
      ]
     },
     "execution_count": 6,
     "metadata": {},
     "output_type": "execute_result"
    }
   ],
   "source": [
    "classes"
   ]
  },
  {
   "cell_type": "code",
   "execution_count": null,
   "metadata": {},
   "outputs": [],
   "source": []
  }
 ],
 "metadata": {
  "kernelspec": {
   "display_name": "Python 3",
   "language": "python",
   "name": "python3"
  },
  "language_info": {
   "codemirror_mode": {
    "name": "ipython",
    "version": 3
   },
   "file_extension": ".py",
   "mimetype": "text/x-python",
   "name": "python",
   "nbconvert_exporter": "python",
   "pygments_lexer": "ipython3",
   "version": "3.5.4"
  }
 },
 "nbformat": 4,
 "nbformat_minor": 2
}
