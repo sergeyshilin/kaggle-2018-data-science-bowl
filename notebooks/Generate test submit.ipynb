{
 "cells": [
  {
   "cell_type": "code",
   "execution_count": null,
   "metadata": {},
   "outputs": [],
   "source": [
    "import pandas as pd\n",
    "import numpy as np\n",
    "import matplotlib.pylab as plt\n",
    "%matplotlib inline\n",
    "\n",
    "from tqdm import tqdm"
   ]
  },
  {
   "cell_type": "code",
   "execution_count": null,
   "metadata": {},
   "outputs": [],
   "source": [
    "import os"
   ]
  },
  {
   "cell_type": "code",
   "execution_count": null,
   "metadata": {},
   "outputs": [],
   "source": [
    "test_predictions_folder = '../data/predictions/'"
   ]
  },
  {
   "cell_type": "code",
   "execution_count": null,
   "metadata": {},
   "outputs": [],
   "source": [
    "from skimage.morphology import label\n",
    "\n",
    "# https://www.kaggle.com/stainsby/fast-tested-rle-and-input-routines\n",
    "def run_length_encode(mask):\n",
    "    pixels = mask.T.flatten()\n",
    "    # We need to allow for cases where there is a '1' at either end of the sequence.\n",
    "    # We do this by padding with a zero at each end when needed.\n",
    "    use_padding = False\n",
    "    if pixels[0] or pixels[-1]:\n",
    "        use_padding = True\n",
    "        pixel_padded = np.zeros([len(pixels) + 2], dtype=pixels.dtype)\n",
    "        pixel_padded[1:-1] = pixels\n",
    "        pixels = pixel_padded\n",
    "    rle = np.where(pixels[1:] != pixels[:-1])[0] + 2\n",
    "    if use_padding:\n",
    "        rle = rle - 1\n",
    "    rle[1::2] = rle[1::2] - rle[:-1:2]\n",
    "    rle = ' '.join(str(x) for x in rle)\n",
    "    return rle\n",
    "\n",
    "# https://www.kaggle.com/stainsby/fast-tested-rle-and-input-routines\n",
    "def run_length_decode(rle_str, mask_shape, mask_dtype):\n",
    "    s = rle_str.split()\n",
    "    starts, lengths = [np.asarray(x, dtype=int) for x in (s[0:][::2], s[1:][::2])]\n",
    "    starts -= 1\n",
    "    ends = starts + lengths\n",
    "    mask = np.zeros(np.prod(mask_shape), dtype=mask_dtype)\n",
    "    for lo, hi in zip(starts, ends):\n",
    "        mask[lo:hi] = 1\n",
    "    return mask.reshape(mask_shape[::-1]).T\n",
    "\n",
    "\n",
    "def probas_to_rles(x, cutoff=0.5):\n",
    "    lab_img = label(x > cutoff)\n",
    "    for i in range(1, lab_img.max() + 1):\n",
    "        yield run_length_encode(lab_img == i)\n",
    "\n",
    "def get_submit_data(predictions, ids):\n",
    "    new_ids = []\n",
    "    rles = []\n",
    "    for n, id_ in enumerate(ids):\n",
    "        rle = list(probas_to_rles(predictions[n]))\n",
    "        if len(rle) == 0:\n",
    "            rle.append('')\n",
    "        rles.extend(rle)\n",
    "        new_ids.extend([id_] * len(rle))\n",
    "    return new_ids, rles"
   ]
  },
  {
   "cell_type": "code",
   "execution_count": null,
   "metadata": {},
   "outputs": [],
   "source": [
    "predictions = []\n",
    "test_img_ids = []\n",
    "\n",
    "for test_img_file in os.listdir(test_predictions_folder):\n",
    "    if test_img_file.endswith('.png'):\n",
    "        test_img_id = test_img_file[:-4]\n",
    "        test_img = plt.imread(os.path.join(test_predictions_folder, test_img_file))\n",
    "\n",
    "        test_img_ids.append(test_img_id)\n",
    "        predictions.append(test_img)"
   ]
  },
  {
   "cell_type": "code",
   "execution_count": null,
   "metadata": {},
   "outputs": [],
   "source": [
    "new_ids, rles = get_submit_data(predictions, test_img_ids)"
   ]
  },
  {
   "cell_type": "code",
   "execution_count": null,
   "metadata": {},
   "outputs": [],
   "source": [
    "submission = pd.DataFrame()\n",
    "submission['ImageId'] = new_ids\n",
    "submission['EncodedPixels'] = pd.Series(rles)\n",
    "submission.to_csv('../submits/submission_retina_unet_001.csv', index=False)"
   ]
  },
  {
   "cell_type": "code",
   "execution_count": null,
   "metadata": {},
   "outputs": [],
   "source": []
  }
 ],
 "metadata": {
  "kernelspec": {
   "display_name": "Python 2",
   "language": "python",
   "name": "python2"
  },
  "language_info": {
   "codemirror_mode": {
    "name": "ipython",
    "version": 2
   },
   "file_extension": ".py",
   "mimetype": "text/x-python",
   "name": "python",
   "nbconvert_exporter": "python",
   "pygments_lexer": "ipython2",
   "version": "2.7.14"
  }
 },
 "nbformat": 4,
 "nbformat_minor": 2
}
