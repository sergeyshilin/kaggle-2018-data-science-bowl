{
 "cells": [
  {
   "cell_type": "code",
   "execution_count": null,
   "metadata": {},
   "outputs": [],
   "source": [
    "import pandas as pd\n",
    "import numpy as np\n",
    "import cv2\n",
    "import matplotlib.pylab as plt\n",
    "%matplotlib inline"
   ]
  },
  {
   "cell_type": "code",
   "execution_count": null,
   "metadata": {},
   "outputs": [],
   "source": [
    "def rle_decode(rle_str, mask_shape, mask_dtype):\n",
    "    s = rle_str.split()\n",
    "    starts, lengths = [np.asarray(x, dtype=int) for x in (s[0:][::2], s[1:][::2])]\n",
    "    starts -= 1\n",
    "    ends = starts + lengths\n",
    "    mask = np.zeros(np.prod(mask_shape), dtype=mask_dtype)\n",
    "    for lo, hi in zip(starts, ends):\n",
    "        mask[lo:hi] = 1\n",
    "    return mask.reshape(mask_shape[::-1]).T"
   ]
  },
  {
   "cell_type": "code",
   "execution_count": null,
   "metadata": {},
   "outputs": [],
   "source": [
    "test_submit = pd.read_csv('../submits/submission_001.csv')"
   ]
  },
  {
   "cell_type": "code",
   "execution_count": null,
   "metadata": {},
   "outputs": [],
   "source": [
    "test_ids = np.random.choice(test_submit.ImageId.values, size=5)"
   ]
  },
  {
   "cell_type": "code",
   "execution_count": null,
   "metadata": {
    "scrolled": true
   },
   "outputs": [],
   "source": [
    "for id_ in test_ids:\n",
    "    img = cv2.imread('../data/test/{}/images/{}.png'.format(id_, id_))\n",
    "    plt.imshow(img)\n",
    "    plt.show()\n",
    "    \n",
    "    mask = np.zeros((img.shape[0], img.shape[1], 1), dtype=np.uint8)\n",
    "    for rle in test_submit.loc[test_submit.ImageId == id_].EncodedPixels.values:\n",
    "        mask_ = rle_decode(rle, img.shape[:-1], np.uint8)\n",
    "        mask_ = np.expand_dims(mask_, axis=-1)\n",
    "        mask = np.maximum(mask, mask_)\n",
    "    plt.imshow(mask.reshape(img.shape[:-1]))\n",
    "    plt.show()"
   ]
  },
  {
   "cell_type": "code",
   "execution_count": null,
   "metadata": {},
   "outputs": [],
   "source": []
  }
 ],
 "metadata": {
  "kernelspec": {
   "display_name": "Python 3",
   "language": "python",
   "name": "python3"
  },
  "language_info": {
   "codemirror_mode": {
    "name": "ipython",
    "version": 3
   },
   "file_extension": ".py",
   "mimetype": "text/x-python",
   "name": "python",
   "nbconvert_exporter": "python",
   "pygments_lexer": "ipython3",
   "version": "3.5.4"
  }
 },
 "nbformat": 4,
 "nbformat_minor": 2
}
